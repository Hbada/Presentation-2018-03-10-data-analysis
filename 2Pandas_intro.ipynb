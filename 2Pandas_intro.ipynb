{
 "cells": [
  {
   "cell_type": "markdown",
   "metadata": {},
   "source": [
    "## Source lessons\n",
    "1. Learn this first https://pandas.pydata.org/pandas-docs/stable/dsintro.html#dsintro\n",
    "1. Then pandas 10-min intro https://pandas.pydata.org/pandas-docs/stable/10min.html"
   ]
  },
  {
   "cell_type": "markdown",
   "metadata": {},
   "source": [
    "## miscellaneous pandas and Heidi's data notes\n",
    "* NaN (not a number) is standard replacement for missing data\n",
    "* Could be useful for devices that tend to capture great amounts of missing data\n",
    "* insulin pump example - rows can look very different depending on what was happening\n",
    "* a small portion of a non-blood-glucose event looks like: \n",
    "\n",
    "```15/02/18 17:57:26,,,,,,,,,,,,,,,,,,,,,,,,,,,,,,PLGMControllerState,\"BEGIN_INTERNAL_STATE```\n",
    "\n",
    "* and a blood-glucose row starts like this: \n",
    "\n",
    "```16/02/18 11:02:25,,,,,,,,,,,,,,,,,,,,,,,,,,,9.1,24.93,,GlucoseSensorData```\n",
    "\n",
    "* The raw data is available but quite full of a wide variety of data\n",
    "* The only thing I usually care about in analysis of a day or a week's worth of data is the 9.1 part (blood glucose)"
   ]
  },
  {
   "cell_type": "markdown",
   "metadata": {},
   "source": [
    "## types of structures\n",
    "#### Series\n",
    "* 1-D series, labeled\n",
    "* index is axis labels\n",
    "* to create array: ```s = pd.Series(data, index=index)```\n",
    "* if index is omitted, pandas inserts numbered index starting at 0\n",
    "* contents could be a series of numbers, strings, dictionary, ndarray, etc\n",
    "* if series is an ndarray, index must have same length as the series\n",
    "\n",
    "#### DataFrame\n",
    "* 2-D array, labeled\n",
    "* columns can be different types, much like a spreadsheet\n",
    "* more complex than NumPy's ndarray"
   ]
  },
  {
   "cell_type": "code",
   "execution_count": 1,
   "metadata": {
    "collapsed": true
   },
   "outputs": [],
   "source": [
    "# usual imports\n",
    "import numpy as np\n",
    "import pandas as pd"
   ]
  },
  {
   "cell_type": "code",
   "execution_count": 2,
   "metadata": {},
   "outputs": [
    {
     "data": {
      "text/plain": [
       "a    0.093096\n",
       "b    0.115783\n",
       "c   -1.673176\n",
       "d    1.306117\n",
       "e    0.330326\n",
       "dtype: float64"
      ]
     },
     "execution_count": 2,
     "metadata": {},
     "output_type": "execute_result"
    }
   ],
   "source": [
    "# series example, with (ndarray, index) given\n",
    "s = pd.Series(np.random.randn(5), index=['a', 'b', 'c', 'd', 'e'])\n",
    "# with an ndarray in a Series, data and index need equal length\n",
    "s"
   ]
  },
  {
   "cell_type": "code",
   "execution_count": 3,
   "metadata": {},
   "outputs": [
    {
     "data": {
      "text/plain": [
       "Index(['a', 'b', 'c', 'd', 'e'], dtype='object')"
      ]
     },
     "execution_count": 3,
     "metadata": {},
     "output_type": "execute_result"
    }
   ],
   "source": [
    "s.index"
   ]
  },
  {
   "cell_type": "code",
   "execution_count": 4,
   "metadata": {},
   "outputs": [
    {
     "data": {
      "text/plain": [
       "0   -0.577213\n",
       "1   -0.271418\n",
       "2    1.417345\n",
       "3    0.136241\n",
       "4   -0.178144\n",
       "dtype: float64"
      ]
     },
     "execution_count": 4,
     "metadata": {},
     "output_type": "execute_result"
    }
   ],
   "source": [
    "pd.Series(np.random.randn(5))"
   ]
  },
  {
   "cell_type": "code",
   "execution_count": 5,
   "metadata": {},
   "outputs": [
    {
     "data": {
      "text/plain": [
       "a    0.0\n",
       "b    1.0\n",
       "c    2.0\n",
       "dtype: float64"
      ]
     },
     "execution_count": 5,
     "metadata": {},
     "output_type": "execute_result"
    }
   ],
   "source": [
    "# dict example\n",
    "# data for labels come from index passed, or failing that, from keys in the dict\n",
    "d = {'a' : 0., 'b' : 1., 'c' : 2.}\n",
    "pd.Series(d)"
   ]
  },
  {
   "cell_type": "code",
   "execution_count": 6,
   "metadata": {},
   "outputs": [
    {
     "data": {
      "text/plain": [
       "a    5.0\n",
       "b    5.0\n",
       "c    5.0\n",
       "d    5.0\n",
       "e    5.0\n",
       "dtype: float64"
      ]
     },
     "execution_count": 6,
     "metadata": {},
     "output_type": "execute_result"
    }
   ],
   "source": [
    "# scalar value example\n",
    "# must be given index in .Series call\n",
    "# ie. data = 5; it is repeated for all the index values\n",
    "pd.Series(5., index=['a', 'b', 'c', 'd', 'e'])"
   ]
  },
  {
   "cell_type": "code",
   "execution_count": 7,
   "metadata": {},
   "outputs": [
    {
     "data": {
      "text/plain": [
       "{'Friday': 30, 'Monday': 34, 'Thursday': 0, 'Tuesday': 12, 'Wednesday': 28}"
      ]
     },
     "execution_count": 7,
     "metadata": {},
     "output_type": "execute_result"
    }
   ],
   "source": [
    "# let's make a new, more interesting structure\n",
    "# this one is number of minutes of guitar practice per day\n",
    "# it will become a pandas Series\n",
    "minutes = {'Monday' : 34, 'Tuesday' : 12, 'Wednesday' : 28, 'Thursday' : 0, 'Friday' : 30}\n",
    "minutes # note Python doesn't keep order in a dictionary"
   ]
  },
  {
   "cell_type": "code",
   "execution_count": 8,
   "metadata": {},
   "outputs": [
    {
     "data": {
      "text/plain": [
       "Friday       30\n",
       "Monday       34\n",
       "Thursday      0\n",
       "Tuesday      12\n",
       "Wednesday    28\n",
       "dtype: int64"
      ]
     },
     "execution_count": 8,
     "metadata": {},
     "output_type": "execute_result"
    }
   ],
   "source": [
    "minutes_s = pd.Series(minutes) # create Series from dictionary\n",
    "minutes_s"
   ]
  },
  {
   "cell_type": "code",
   "execution_count": 9,
   "metadata": {},
   "outputs": [
    {
     "data": {
      "text/plain": [
       "30"
      ]
     },
     "execution_count": 9,
     "metadata": {},
     "output_type": "execute_result"
    }
   ],
   "source": [
    "# .series() acts like an ndarray\n",
    "# but slicing also slices the index\n",
    "minutes_s[0] # index 0, isn't necessarily the first item contained in the original dictionary\n",
    "# in this case, the elements appear to be ordered alphabetically, Friday first"
   ]
  },
  {
   "cell_type": "code",
   "execution_count": 10,
   "metadata": {},
   "outputs": [
    {
     "name": "stdout",
     "output_type": "stream",
     "text": [
      "You practiced 34 minutes on Monday.\n"
     ]
    }
   ],
   "source": [
    "# luckily we can select or slice by label rather than numerical index\n",
    "print(\"You practiced\", minutes_s['Monday'], \"minutes on Monday.\")"
   ]
  },
  {
   "cell_type": "code",
   "execution_count": 11,
   "metadata": {},
   "outputs": [
    {
     "data": {
      "text/plain": [
       "Friday      30\n",
       "Monday      34\n",
       "Thursday     0\n",
       "dtype: int64"
      ]
     },
     "execution_count": 11,
     "metadata": {},
     "output_type": "execute_result"
    }
   ],
   "source": [
    "minutes_s[:3] # first three values"
   ]
  },
  {
   "cell_type": "code",
   "execution_count": 12,
   "metadata": {},
   "outputs": [
    {
     "data": {
      "text/plain": [
       "Friday    30\n",
       "Monday    34\n",
       "dtype: int64"
      ]
     },
     "execution_count": 12,
     "metadata": {},
     "output_type": "execute_result"
    }
   ],
   "source": [
    "# find Series contents that are above median\n",
    "# the dictionary had 5 days, and the median value is 12 \n",
    "minutes_s[minutes_s > minutes_s.median()] # [] contains slice of data above median\n",
    "# in practice so far, the days of the week appear in order\n",
    "# but to ensure elements are kept in order, a list of tuples would be better"
   ]
  },
  {
   "cell_type": "code",
   "execution_count": 13,
   "metadata": {},
   "outputs": [
    {
     "data": {
      "text/plain": [
       "pandas.core.series.Series"
      ]
     },
     "execution_count": 13,
     "metadata": {},
     "output_type": "execute_result"
    }
   ],
   "source": [
    "type(minutes_s) # on that note, let's see what type of object this is"
   ]
  },
  {
   "cell_type": "code",
   "execution_count": 14,
   "metadata": {},
   "outputs": [
    {
     "data": {
      "text/plain": [
       "Wednesday    28\n",
       "Friday       30\n",
       "dtype: int64"
      ]
     },
     "execution_count": 14,
     "metadata": {},
     "output_type": "execute_result"
    }
   ],
   "source": [
    "minutes_s[[4, 0]] # slice indexes in a certain order\n",
    "# useful here if you knew Wednesday and Friday (index 4 and 0) had guitar lessons"
   ]
  },
  {
   "cell_type": "code",
   "execution_count": 15,
   "metadata": {},
   "outputs": [
    {
     "data": {
      "text/plain": [
       "False"
      ]
     },
     "execution_count": 15,
     "metadata": {},
     "output_type": "execute_result"
    }
   ],
   "source": [
    "'Saturday' in minutes_s # basic Python applies to a pandas Series too"
   ]
  },
  {
   "cell_type": "code",
   "execution_count": 16,
   "metadata": {},
   "outputs": [
    {
     "data": {
      "text/plain": [
       "True"
      ]
     },
     "execution_count": 16,
     "metadata": {},
     "output_type": "execute_result"
    }
   ],
   "source": [
    "'Monday' in minutes_s"
   ]
  },
  {
   "cell_type": "code",
   "execution_count": 17,
   "metadata": {},
   "outputs": [
    {
     "data": {
      "text/plain": [
       "Friday       60\n",
       "Monday       68\n",
       "Thursday      0\n",
       "Tuesday      24\n",
       "Wednesday    56\n",
       "dtype: int64"
      ]
     },
     "execution_count": 17,
     "metadata": {},
     "output_type": "execute_result"
    }
   ],
   "source": [
    "# guitar practice minutes Series can receive arithmetic operations too\n",
    "# what if you vowed to practice twice as much?\n",
    "minutes_s2 = minutes_s * 2\n",
    "minutes_s2"
   ]
  },
  {
   "cell_type": "code",
   "execution_count": 18,
   "metadata": {},
   "outputs": [
    {
     "data": {
      "text/plain": [
       "Friday       False\n",
       "Monday        True\n",
       "Thursday     False\n",
       "Tuesday      False\n",
       "Wednesday    False\n",
       "dtype: bool"
      ]
     },
     "execution_count": 18,
     "metadata": {},
     "output_type": "execute_result"
    }
   ],
   "source": [
    "# how many days are over an hour?\n",
    "minutes_s2 > 60"
   ]
  },
  {
   "cell_type": "code",
   "execution_count": 19,
   "metadata": {},
   "outputs": [
    {
     "data": {
      "text/plain": [
       "July         56\n",
       "August       70\n",
       "September    80\n",
       "December     97\n",
       "Name: Hydro bill, dtype: int64"
      ]
     },
     "execution_count": 19,
     "metadata": {},
     "output_type": "execute_result"
    }
   ],
   "source": [
    "# a series can accept a list and a name attribute\n",
    "s = pd.Series([56, 70, 80, 97], index =['July', 'August', 'September', 'December'], name='Hydro bill')\n",
    "s"
   ]
  },
  {
   "cell_type": "code",
   "execution_count": 20,
   "metadata": {},
   "outputs": [
    {
     "data": {
      "text/plain": [
       "'Kilometers walked'"
      ]
     },
     "execution_count": 20,
     "metadata": {},
     "output_type": "execute_result"
    }
   ],
   "source": [
    "# a series can be renamed\n",
    "s2 = s.rename(\"Kilometers walked\")\n",
    "s2.name # find out what s2's name is"
   ]
  },
  {
   "cell_type": "code",
   "execution_count": 21,
   "metadata": {},
   "outputs": [
    {
     "data": {
      "text/plain": [
       "July         56\n",
       "August       70\n",
       "September    80\n",
       "December     97\n",
       "Name: Kilometers walked, dtype: int64"
      ]
     },
     "execution_count": 21,
     "metadata": {},
     "output_type": "execute_result"
    }
   ],
   "source": [
    "s2"
   ]
  }
 ],
 "metadata": {
  "kernelspec": {
   "display_name": "Python 3",
   "language": "python",
   "name": "python3"
  },
  "language_info": {
   "codemirror_mode": {
    "name": "ipython",
    "version": 3
   },
   "file_extension": ".py",
   "mimetype": "text/x-python",
   "name": "python",
   "nbconvert_exporter": "python",
   "pygments_lexer": "ipython3",
   "version": "3.6.1"
  }
 },
 "nbformat": 4,
 "nbformat_minor": 1
}

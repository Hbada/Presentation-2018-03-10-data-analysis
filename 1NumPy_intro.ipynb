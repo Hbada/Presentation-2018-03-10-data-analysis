{
 "cells": [
  {
   "cell_type": "markdown",
   "metadata": {},
   "source": [
    "## Starting with an understanding of NumPy library for Python\n",
    "NumPy's role in data analysis:\n",
    "* array operations; \n",
    "* multidimensional arrays called ndarray (1-D is a list, 2-D is like a spreadsheet, 3-D is like a Rubik's cube, which can be imagined as a list of lists or spreadsheets)\n",
    "* descriptive statistics\n",
    "* and a whole lot more...beyond this presentation's scope\n",
    "\n",
    "Whearas pandas is known for:\n",
    "* adding on to NumPy functionality\n",
    "* time series functionality\n",
    "* ways to manage missing data\n",
    "* labeled axes which prevent errors in data alignment\n",
    "* Series (1-D) and DataFrames (2-D)\n",
    "\n",
    "This notebook is based on https://docs.scipy.org/doc/numpy/user/quickstart.html\n",
    "* the link has great list of methods, clickable near the end"
   ]
  },
  {
   "cell_type": "markdown",
   "metadata": {},
   "source": [
    "The main unit in NumPy is the multidimensional array\n",
    "* values of all same type, usually numbers\n",
    "* indexed by tuple\n",
    "* dimensions are called axes\n",
    "* numpy.array is not the same as Python's built-in array.array which is 1-D and relatively basic"
   ]
  },
  {
   "cell_type": "markdown",
   "metadata": {},
   "source": [
    "Examples of ndarrays (n-dimensional arrays)\n",
    "\n",
    "Array with one axis with 3 elements; length is 3; shape is (1, 3)\n",
    "\n",
    "```[1, 2, 1] ```\n",
    "\n",
    "Array with 2 axes, each with length 3; size is (2, 3)\n",
    "\n",
    "```[[ 1., 0., 0.],\n",
    " [ 0., 1., 2.]] ```\n",
    "\n",
    "The NumPy website lists noteable methods to explore right at the start:\n",
    "ndarray.ndim, .shape, .dtype, .itemsize, .data"
   ]
  },
  {
   "cell_type": "code",
   "execution_count": 1,
   "metadata": {},
   "outputs": [
    {
     "data": {
      "text/plain": [
       "array([ 0,  1,  2,  3,  4,  5,  6,  7,  8,  9, 10, 11, 12, 13, 14])"
      ]
     },
     "execution_count": 1,
     "metadata": {},
     "output_type": "execute_result"
    }
   ],
   "source": [
    "import numpy as np\n",
    "a = np.arange(15) # create array with one axis, from 0 up to but not including 15\n",
    "a"
   ]
  },
  {
   "cell_type": "code",
   "execution_count": 2,
   "metadata": {},
   "outputs": [
    {
     "data": {
      "text/plain": [
       "array([[ 0,  1,  2,  3,  4],\n",
       "       [ 5,  6,  7,  8,  9],\n",
       "       [10, 11, 12, 13, 14]])"
      ]
     },
     "execution_count": 2,
     "metadata": {},
     "output_type": "execute_result"
    }
   ],
   "source": [
    "a.reshape(3, 5) # convert to 3 axes"
   ]
  },
  {
   "cell_type": "code",
   "execution_count": 3,
   "metadata": {},
   "outputs": [
    {
     "data": {
      "text/plain": [
       "array([ 0,  1,  2,  3,  4,  5,  6,  7,  8,  9, 10, 11, 12, 13, 14])"
      ]
     },
     "execution_count": 3,
     "metadata": {},
     "output_type": "execute_result"
    }
   ],
   "source": [
    "a # was a actually changed when .reshape was applied?... no"
   ]
  },
  {
   "cell_type": "code",
   "execution_count": 4,
   "metadata": {},
   "outputs": [
    {
     "data": {
      "text/plain": [
       "(15,)"
      ]
     },
     "execution_count": 4,
     "metadata": {},
     "output_type": "execute_result"
    }
   ],
   "source": [
    "a.shape # we expect it to be 1-D with length 15"
   ]
  },
  {
   "cell_type": "markdown",
   "metadata": {},
   "source": [
    "## Farm example - basic operations\n",
    "* Farms are all in B.C., greater than 11 acres.\n",
    "* Each data point is the number of farms in each category, ie. beef or grain\n",
    "* The farms array is one column of data from a .csv found kinda randomly among openly-shared data online\n",
    "* It's altered slightly to fit a length of 12 for some calculations later"
   ]
  },
  {
   "cell_type": "code",
   "execution_count": 5,
   "metadata": {},
   "outputs": [
    {
     "data": {
      "text/plain": [
       "array([ 63,  47, 127,  13,   9,  56,  34,  33,  21,  32, 170,   0])"
      ]
     },
     "execution_count": 5,
     "metadata": {},
     "output_type": "execute_result"
    }
   ],
   "source": [
    "farms = np.array( [63,47,127,13, 9, 56,34,33,21,32,170,0] ) # create 1-apex array, has one list as argument\n",
    "farms"
   ]
  },
  {
   "cell_type": "code",
   "execution_count": 6,
   "metadata": {},
   "outputs": [
    {
     "data": {
      "text/plain": [
       "array([ 68,  52, 132,  18,  14,  61,  39,  38,  26,  37, 175,   5])"
      ]
     },
     "execution_count": 6,
     "metadata": {},
     "output_type": "execute_result"
    }
   ],
   "source": [
    "# addition and subtraction require equal-sized arrays; multiplication & exponents, etc don't\n",
    "\n",
    "# let's see what the numbers look like if every category rose by 5 farms next year\n",
    "\n",
    "farms + 5 # farms remains unchanged"
   ]
  },
  {
   "cell_type": "code",
   "execution_count": 7,
   "metadata": {},
   "outputs": [
    {
     "data": {
      "text/plain": [
       "array([False, False,  True, False, False, False, False, False, False,\n",
       "       False,  True, False], dtype=bool)"
      ]
     },
     "execution_count": 7,
     "metadata": {},
     "output_type": "execute_result"
    }
   ],
   "source": [
    "# are any values > 100?\n",
    "farms > 100"
   ]
  },
  {
   "cell_type": "markdown",
   "metadata": {},
   "source": [
    "#### Operations on whole array"
   ]
  },
  {
   "cell_type": "code",
   "execution_count": 8,
   "metadata": {},
   "outputs": [
    {
     "data": {
      "text/plain": [
       "605"
      ]
     },
     "execution_count": 8,
     "metadata": {},
     "output_type": "execute_result"
    }
   ],
   "source": [
    "np.sum(farms) # total number of farms"
   ]
  },
  {
   "cell_type": "code",
   "execution_count": 9,
   "metadata": {},
   "outputs": [
    {
     "data": {
      "text/plain": [
       "0"
      ]
     },
     "execution_count": 9,
     "metadata": {},
     "output_type": "execute_result"
    }
   ],
   "source": [
    "np.min(farms) # lowest count of farms in a category (ie. beef)"
   ]
  },
  {
   "cell_type": "code",
   "execution_count": 10,
   "metadata": {},
   "outputs": [
    {
     "data": {
      "text/plain": [
       "170"
      ]
     },
     "execution_count": 10,
     "metadata": {},
     "output_type": "execute_result"
    }
   ],
   "source": [
    "np.max(farms) # largest value in the farms array"
   ]
  },
  {
   "cell_type": "code",
   "execution_count": 11,
   "metadata": {},
   "outputs": [
    {
     "data": {
      "text/plain": [
       "array([[ 63,  47, 127,  13],\n",
       "       [  9,  56,  34,  33],\n",
       "       [ 21,  32, 170,   0]])"
      ]
     },
     "execution_count": 11,
     "metadata": {},
     "output_type": "execute_result"
    }
   ],
   "source": [
    "farms.reshape(3,4) # see it as a multi-apex array"
   ]
  },
  {
   "cell_type": "code",
   "execution_count": 12,
   "metadata": {
    "collapsed": true
   },
   "outputs": [],
   "source": [
    "farms2 = farms.reshape(3,4)"
   ]
  },
  {
   "cell_type": "code",
   "execution_count": 13,
   "metadata": {},
   "outputs": [
    {
     "data": {
      "text/plain": [
       "array([[ 63,  47, 127,  13],\n",
       "       [  9,  56,  34,  33],\n",
       "       [ 21,  32, 170,   0]])"
      ]
     },
     "execution_count": 13,
     "metadata": {},
     "output_type": "execute_result"
    }
   ],
   "source": [
    "farms2"
   ]
  },
  {
   "cell_type": "code",
   "execution_count": 14,
   "metadata": {},
   "outputs": [
    {
     "data": {
      "text/plain": [
       "(3, 4)"
      ]
     },
     "execution_count": 14,
     "metadata": {},
     "output_type": "execute_result"
    }
   ],
   "source": [
    "farms2.shape # version 2 of farms has 3 rows of 4 elements"
   ]
  },
  {
   "cell_type": "code",
   "execution_count": 15,
   "metadata": {},
   "outputs": [
    {
     "data": {
      "text/plain": [
       "2"
      ]
     },
     "execution_count": 15,
     "metadata": {},
     "output_type": "execute_result"
    }
   ],
   "source": [
    "farms2.ndim # has 2 dimensions, like a spreasheet or matrix"
   ]
  },
  {
   "cell_type": "code",
   "execution_count": 16,
   "metadata": {},
   "outputs": [
    {
     "data": {
      "text/plain": [
       "array([ 93, 135, 331,  46])"
      ]
     },
     "execution_count": 16,
     "metadata": {},
     "output_type": "execute_result"
    }
   ],
   "source": [
    "# use axis parameter to do operations along a row\n",
    "farms2.sum(axis=0) # sum of each column"
   ]
  },
  {
   "cell_type": "code",
   "execution_count": 17,
   "metadata": {},
   "outputs": [
    {
     "data": {
      "text/plain": [
       "array([13,  9,  0])"
      ]
     },
     "execution_count": 17,
     "metadata": {},
     "output_type": "execute_result"
    }
   ],
   "source": [
    "farms2.min(axis=1) # minimum in each row"
   ]
  },
  {
   "cell_type": "markdown",
   "metadata": {},
   "source": [
    "## 3-D array example"
   ]
  },
  {
   "cell_type": "code",
   "execution_count": 18,
   "metadata": {},
   "outputs": [
    {
     "data": {
      "text/plain": [
       "array([[[ 0,  1,  2,  3],\n",
       "        [ 4,  5,  6,  7],\n",
       "        [ 8,  9, 10, 11]],\n",
       "\n",
       "       [[12, 13, 14, 15],\n",
       "        [16, 17, 18, 19],\n",
       "        [20, 21, 22, 23]]])"
      ]
     },
     "execution_count": 18,
     "metadata": {},
     "output_type": "execute_result"
    }
   ],
   "source": [
    "b = np.arange(24).reshape(2,3,4) # create array with 24 items, starting at 0\n",
    "# looks like 2 collections of 3 rows with 4 elements each \n",
    "b"
   ]
  },
  {
   "cell_type": "markdown",
   "metadata": {},
   "source": [
    "## Indexes in arrays"
   ]
  },
  {
   "cell_type": "code",
   "execution_count": 19,
   "metadata": {},
   "outputs": [
    {
     "data": {
      "text/plain": [
       "array([ 63,  47, 127,  13,   9,  56,  34,  33,  21,  32, 170,   0])"
      ]
     },
     "execution_count": 19,
     "metadata": {},
     "output_type": "execute_result"
    }
   ],
   "source": [
    "farms # print farms again"
   ]
  },
  {
   "cell_type": "code",
   "execution_count": 20,
   "metadata": {},
   "outputs": [
    {
     "data": {
      "text/plain": [
       "127"
      ]
     },
     "execution_count": 20,
     "metadata": {},
     "output_type": "execute_result"
    }
   ],
   "source": [
    "farms[2] # extract a value from 1D array; 0-indexed"
   ]
  },
  {
   "cell_type": "code",
   "execution_count": 21,
   "metadata": {},
   "outputs": [
    {
     "data": {
      "text/plain": [
       "array([127,  13,   9])"
      ]
     },
     "execution_count": 21,
     "metadata": {},
     "output_type": "execute_result"
    }
   ],
   "source": [
    "# want to extract slice from 127 (3rd element, index 2) to 9 (5th element, index 4)\n",
    "farms[2:5] # slice from index 2 up to but not including index 5"
   ]
  },
  {
   "cell_type": "code",
   "execution_count": 22,
   "metadata": {},
   "outputs": [
    {
     "data": {
      "text/plain": [
       "array([[ 63,  47, 127,  13],\n",
       "       [  9,  56,  34,  33],\n",
       "       [ 21,  32, 170,   0]])"
      ]
     },
     "execution_count": 22,
     "metadata": {},
     "output_type": "execute_result"
    }
   ],
   "source": [
    "# multidimensional arrays use tuples for index\n",
    "farms2 # see array b again"
   ]
  },
  {
   "cell_type": "code",
   "execution_count": 23,
   "metadata": {},
   "outputs": [
    {
     "data": {
      "text/plain": [
       "33"
      ]
     },
     "execution_count": 23,
     "metadata": {},
     "output_type": "execute_result"
    }
   ],
   "source": [
    "farms2[1,3] # extract row with index 1, and element with index 3\n",
    "# aka row 2, column 4"
   ]
  },
  {
   "cell_type": "code",
   "execution_count": 24,
   "metadata": {},
   "outputs": [
    {
     "data": {
      "text/plain": [
       "array([47, 56, 32])"
      ]
     },
     "execution_count": 24,
     "metadata": {},
     "output_type": "execute_result"
    }
   ],
   "source": [
    "# extract a column\n",
    "farms2[0:3, 1] # row 1 to 3, at column 2\n",
    "farms2[ : ,1] # same thing"
   ]
  },
  {
   "cell_type": "code",
   "execution_count": 25,
   "metadata": {},
   "outputs": [
    {
     "name": "stdout",
     "output_type": "stream",
     "text": [
      "[ 63  47 127  13]\n",
      "[ 9 56 34 33]\n",
      "[ 21  32 170   0]\n"
     ]
    }
   ],
   "source": [
    "# another way to display array\n",
    "for row in farms2:\n",
    "    print(row)"
   ]
  },
  {
   "cell_type": "code",
   "execution_count": 26,
   "metadata": {},
   "outputs": [
    {
     "name": "stdout",
     "output_type": "stream",
     "text": [
      "63\n",
      "47\n",
      "127\n",
      "13\n",
      "9\n",
      "56\n",
      "34\n",
      "33\n",
      "21\n",
      "32\n",
      "170\n",
      "0\n"
     ]
    }
   ],
   "source": [
    "# .flat breaks apart a 2D array for display and operations\n",
    "for element in farms2.flat:\n",
    "    print(element)"
   ]
  },
  {
   "cell_type": "code",
   "execution_count": 27,
   "metadata": {},
   "outputs": [
    {
     "name": "stdout",
     "output_type": "stream",
     "text": [
      "94.5\n",
      "70.5\n",
      "190.5\n",
      "19.5\n",
      "13.5\n",
      "84.0\n",
      "51.0\n",
      "49.5\n",
      "31.5\n",
      "48.0\n",
      "255.0\n",
      "0.0\n"
     ]
    }
   ],
   "source": [
    "# calculate number of farms if they rose 50%\n",
    "for element in farms2.flat:\n",
    "    print(element * 1.5)"
   ]
  },
  {
   "cell_type": "markdown",
   "metadata": {},
   "source": [
    "## Diabetes example - basic math and stats"
   ]
  },
  {
   "cell_type": "code",
   "execution_count": 28,
   "metadata": {},
   "outputs": [
    {
     "data": {
      "text/plain": [
       "[[5.6, 7.8, 6.0], [12.2, 4.4, 6.7]]"
      ]
     },
     "execution_count": 28,
     "metadata": {},
     "output_type": "execute_result"
    }
   ],
   "source": [
    "# each row is one day's before-meal breakfast, lunch, and dinner measurement in mmol/L\n",
    "# typical goal is around 5.5 mmol/L\n",
    "# too high or low means you had too much/little insulin at last meal\n",
    "\n",
    "bgCan = [[ 5.6 , 7.8, 6.0 ], [ 12.2, 4.4, 6.7 ]] # create a list of lists\n",
    "bgCan"
   ]
  },
  {
   "cell_type": "code",
   "execution_count": 29,
   "metadata": {},
   "outputs": [
    {
     "name": "stdout",
     "output_type": "stream",
     "text": [
      "[5.6, 7.8, 6.0]\n",
      "[12.2, 4.4, 6.7]\n"
     ]
    }
   ],
   "source": [
    "for row in bgCan:\n",
    "    print(row)"
   ]
  },
  {
   "cell_type": "code",
   "execution_count": 30,
   "metadata": {},
   "outputs": [
    {
     "data": {
      "text/plain": [
       "[[5.6, 7.8, 6.0], [12.2, 4.4, 6.7]]"
      ]
     },
     "execution_count": 30,
     "metadata": {},
     "output_type": "execute_result"
    }
   ],
   "source": [
    "bgCan # data output retains 'list' look"
   ]
  },
  {
   "cell_type": "code",
   "execution_count": 31,
   "metadata": {},
   "outputs": [
    {
     "data": {
      "text/plain": [
       "list"
      ]
     },
     "execution_count": 31,
     "metadata": {},
     "output_type": "execute_result"
    }
   ],
   "source": [
    "# so find out its type\n",
    "type(bgCan)"
   ]
  },
  {
   "cell_type": "code",
   "execution_count": 32,
   "metadata": {},
   "outputs": [
    {
     "data": {
      "text/plain": [
       "array([[  5.6,   7.8,   6. ],\n",
       "       [ 12.2,   4.4,   6.7]])"
      ]
     },
     "execution_count": 32,
     "metadata": {},
     "output_type": "execute_result"
    }
   ],
   "source": [
    "bgCan = np.array(bgCan) # create array from list of 2 lists\n",
    "bgCan # finally looks like a 2D array\n",
    "\n",
    "# array has 2 days, 3 meals each"
   ]
  },
  {
   "cell_type": "code",
   "execution_count": 33,
   "metadata": {},
   "outputs": [
    {
     "name": "stdout",
     "output_type": "stream",
     "text": [
      "[[ 100.8  140.4  108. ]\n",
      " [ 219.6   79.2  120.6]]\n",
      "[[ 100.8  140.4  108. ]\n",
      " [ 219.6   79.2  120.6]]\n"
     ]
    }
   ],
   "source": [
    "# convert Canadian diabetic blood sugar mmol/L to American mg/dL\n",
    "# handy because much literature is published for Americans\n",
    "# multiply mmol/L by 18 to get mg/dL\n",
    "\n",
    "for row in bgCan:\n",
    "    print(bgCan * 18)"
   ]
  },
  {
   "cell_type": "code",
   "execution_count": 34,
   "metadata": {},
   "outputs": [
    {
     "data": {
      "text/plain": [
       "array([[100, 140, 108],\n",
       "       [219,  79, 120]], dtype=int32)"
      ]
     },
     "execution_count": 34,
     "metadata": {},
     "output_type": "execute_result"
    }
   ],
   "source": [
    "# since American units are larger, re-do as integers\n",
    "# make new array from (bgCan * 18) and set data type to integer\n",
    "bgUS = np.array(bgCan * 18, dtype='int32')\n",
    "bgUS"
   ]
  },
  {
   "cell_type": "code",
   "execution_count": 35,
   "metadata": {},
   "outputs": [
    {
     "data": {
      "text/plain": [
       "array([[  5.6,  12.2],\n",
       "       [  7.8,   4.4],\n",
       "       [  6. ,   6.7]])"
      ]
     },
     "execution_count": 35,
     "metadata": {},
     "output_type": "execute_result"
    }
   ],
   "source": [
    "# transpose bgCan\n",
    "bgCan.T\n",
    "# now have 2 columns of 3 rows; each day is a column now, and each meal gets an apex"
   ]
  },
  {
   "cell_type": "code",
   "execution_count": 36,
   "metadata": {},
   "outputs": [
    {
     "data": {
      "text/plain": [
       "array([[  5.6,   7.8,   6. ],\n",
       "       [ 12.2,   4.4,   6.7]])"
      ]
     },
     "execution_count": 36,
     "metadata": {},
     "output_type": "execute_result"
    }
   ],
   "source": [
    "# back to the original couple of days of meal data\n",
    "bgCan"
   ]
  },
  {
   "cell_type": "code",
   "execution_count": 37,
   "metadata": {},
   "outputs": [
    {
     "data": {
      "text/plain": [
       "4.4000000000000004"
      ]
     },
     "execution_count": 37,
     "metadata": {},
     "output_type": "execute_result"
    }
   ],
   "source": [
    "# max and min are now interesting, and easy once the data is in an array\n",
    "np.min(bgCan)"
   ]
  },
  {
   "cell_type": "code",
   "execution_count": 38,
   "metadata": {},
   "outputs": [
    {
     "name": "stdout",
     "output_type": "stream",
     "text": [
      "4.4\n"
     ]
    }
   ],
   "source": [
    "# better to use a variable so the output is formatted nicely\n",
    "bg_min = np.min(bgCan) # get lowest value in whole array\n",
    "print(bg_min) # show the value just as it appears in array"
   ]
  },
  {
   "cell_type": "code",
   "execution_count": 39,
   "metadata": {},
   "outputs": [
    {
     "name": "stdout",
     "output_type": "stream",
     "text": [
      "12.2\n"
     ]
    }
   ],
   "source": [
    "bg_max = np.max(bgCan) # get max value\n",
    "print(bg_max)"
   ]
  },
  {
   "cell_type": "markdown",
   "metadata": {},
   "source": [
    "## Counting poses a problem\n",
    "* Nice to also get counts of values below 4.5 or so\n",
    "* Also nice to count values over 9 or so when fasting (several hours after meals)\n",
    "* Can't find a count method built in to NumPy AND Python basics don't work with NumPy's ndarrays\n",
    "\n",
    "Something like this doesn't work here:\n",
    "\n",
    "```count = 0\n",
    "for item in bgCan:\n",
    "    if item < 4.6:\n",
    "        count += 1```"
   ]
  },
  {
   "cell_type": "code",
   "execution_count": 40,
   "metadata": {},
   "outputs": [
    {
     "data": {
      "text/plain": [
       "array([[False, False, False],\n",
       "       [False,  True, False]], dtype=bool)"
      ]
     },
     "execution_count": 40,
     "metadata": {},
     "output_type": "execute_result"
    }
   ],
   "source": [
    "# temporary solution\n",
    "bg_low = bgCan < 4.5\n",
    "bg_low # there is one value less than 4.6, at row 2, column 2"
   ]
  },
  {
   "cell_type": "code",
   "execution_count": 41,
   "metadata": {
    "collapsed": true
   },
   "outputs": [],
   "source": [
    "# then count the True values\n",
    "bg_low_count = np.count_nonzero(bg_low)"
   ]
  },
  {
   "cell_type": "code",
   "execution_count": 42,
   "metadata": {},
   "outputs": [
    {
     "name": "stdout",
     "output_type": "stream",
     "text": [
      "You had 1 low value(s) at 6 meals.\n"
     ]
    }
   ],
   "source": [
    "# or even more clearly build it into a human sentence\n",
    "print(\"You had\", bg_low_count, \"low value(s) at\", bgCan.size, \"meals.\")"
   ]
  },
  {
   "cell_type": "markdown",
   "metadata": {},
   "source": [
    "## We really need pandas now for counts and more"
   ]
  }
 ],
 "metadata": {
  "kernelspec": {
   "display_name": "Python 3",
   "language": "python",
   "name": "python3"
  },
  "language_info": {
   "codemirror_mode": {
    "name": "ipython",
    "version": 3
   },
   "file_extension": ".py",
   "mimetype": "text/x-python",
   "name": "python",
   "nbconvert_exporter": "python",
   "pygments_lexer": "ipython3",
   "version": "3.6.1"
  }
 },
 "nbformat": 4,
 "nbformat_minor": 1
}
